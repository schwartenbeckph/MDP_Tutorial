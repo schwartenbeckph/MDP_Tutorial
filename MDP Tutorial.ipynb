{
 "cells": [
  {
   "cell_type": "markdown",
   "metadata": {},
   "source": [
    "# Markov Decision Processes"
   ]
  },
  {
   "cell_type": "markdown",
   "metadata": {},
   "source": [
    "This is meant to be a tutorial guide through the structure of a Markov Decision Process (MDP), computing state and action values within a MDP and dealing with partial observability. This is work in progress but will hopefully be finished soon :)"
   ]
  },
  {
   "cell_type": "code",
   "execution_count": null,
   "metadata": {},
   "outputs": [],
   "source": [
    "# Import necessary libraries\n",
    "%matplotlib inline\n",
    "import numpy as np\n",
    "import matplotlib.pyplot as plt"
   ]
  },
  {
   "cell_type": "markdown",
   "metadata": {},
   "source": [
    "## 1) MDP Structure"
   ]
  },
  {
   "cell_type": "markdown",
   "metadata": {},
   "source": [
    "A Markov Decision Process (MDP) is based on a **state space**, **action space**, and a **reward function**. Let's go through this via an example called *gridworld* (see Sutton and Barto 2018, p. 60 and following)"
   ]
  },
  {
   "cell_type": "markdown",
   "metadata": {},
   "source": [
    "### 1.1) State Space\n",
    "\n",
    "The environment is a simple 5x5 grid where every cell reflects an individual **state of the environment**:"
   ]
  },
  {
   "cell_type": "code",
   "execution_count": 38,
   "metadata": {
    "scrolled": true
   },
   "outputs": [
    {
     "data": {
      "image/png": "[encoded data removed]",
      "text/plain": [
       "<Figure size 432x288 with 2 Axes>"
      ]
     },
     "metadata": {
      "needs_background": "light"
     },
     "output_type": "display_data"
    }
   ],
   "source": [
    "states = np.linspace(1,25,25).reshape(5,5)\n",
    "#print(states)\n",
    "\n",
    "plt.imshow(states, cmap='viridis')\n",
    "plt.colorbar()\n",
    "plt.axis('off')\n",
    "plt.title('States Gridworld')\n",
    "plt.show()"
   ]
  },
  {
   "cell_type": "markdown",
   "metadata": {},
   "source": [
    "### 1.2) Action Space\n",
    "\n",
    "An agent can move across this gridworld to collect rewards. There are four **actions**: move North, East, South or West"
   ]
  },
  {
   "cell_type": "code",
   "execution_count": 50,
   "metadata": {},
   "outputs": [
    {
     "data": {
      "image/png": "[encoded data removed]",
      "text/plain": [
       "<Figure size 432x288 with 1 Axes>"
      ]
     },
     "metadata": {
      "needs_background": "light"
     },
     "output_type": "display_data"
    }
   ],
   "source": [
    "actions = np.linspace(1,4,4).reshape(1,4)\n",
    "#rint(actions)\n",
    "\n",
    "plt.imshow(actions, cmap='RdBu')\n",
    "plt.yticks([])\n",
    "plt.xticks(np.arange(4), ['Move North', 'Move East', 'Move South','Move West'])\n",
    "plt.title('Actions Gridworld')\n",
    "plt.show()"
   ]
  },
  {
   "cell_type": "markdown",
   "metadata": {},
   "source": [
    "### 1.3) Rewards\n",
    "\n",
    "Finally, we need to define the **rewards**. Let's assume that \n",
    "- Any action that would take the agent off the gridworld results in a reward of -1 and does not change the location of the agent\n",
    "- Any movement from A (dark yellow below) results in a reward of +10 and moves the agent to A' (bright yellow below)\n",
    "- Any movement from B (dark green below) results in a reward of +5 and moves the agent to B' (bright green below)\n",
    "- All other actions result in a reward of 0"
   ]
  },
  {
   "cell_type": "code",
   "execution_count": 49,
   "metadata": {},
   "outputs": [
    {
     "data": {
      "image/png": "[encoded data removed]",
      "text/plain": [
       "<Figure size 432x288 with 2 Axes>"
      ]
     },
     "metadata": {
      "needs_background": "light"
     },
     "output_type": "display_data"
    }
   ],
   "source": [
    "reward_map = np.zeros((5,5))\n",
    "reward_map[0,1] = 10\n",
    "reward_map[4,1] = 11\n",
    "reward_map[0,3] = 6\n",
    "reward_map[2,3] = 8\n",
    "                      \n",
    "plt.imshow(reward_map, cmap='viridis')\n",
    "plt.colorbar()\n",
    "plt.axis('off')\n",
    "plt.title('Reward states Gridworld')\n",
    "plt.show()"
   ]
  },
  {
   "cell_type": "markdown",
   "metadata": {},
   "source": [
    "### 1.4) Dynamics\n",
    "\n",
    "We can now specify the **dynamics** of the MDP. Those dynamics are defined in the following function $p$:\n",
    "\n",
    "$$p(s', r|s, a) \\overset{def}{=} Pr(S_t = s', R_t=r | S_{t-1}=s, A_{t-1}=a)$$\n",
    "\n",
    "\n",
    "for all $s', s \\in S$, $r \\in R$, and $a \\in A(s)$. This is a deterministic function with four arguments: a previous state $s$, an action $a$ at that previous state, a current state $s'$, and a reward $r$ at that current state.\n",
    "\n",
    "$p$ is a probability function, such that $$\\sum_{s' \\in S} \\sum_{r \\in R}p(s', r|s, a)=1, \\forall s \\in S, a \\in A(s)$$\n",
    "\n",
    "This is really a crucial definition, because a lot of other notions follow from these dynamics:\n",
    "\n",
    "The **state transition probabilities** are $$p(s'|s, a) \\overset{def}{=}\\sum_{r \\in R}p(s', r|s, a)$$\n",
    "\n",
    "The **expected rewards for state-action pairs** are $$r(s,a)\\overset{def}{=}\\sum_{r \\in R}r\\sum_{s' \\in S}p(s', r|s, a)$$\n",
    "\n",
    "The **expected rewards for state-action-state triples** are $$r(s,a,s')\\overset{def}{=}\\sum_{r \\in R}r \\frac{p(s', r|s, a)}{p(s'|s, a)}$$"
   ]
  },
  {
   "cell_type": "code",
   "execution_count": null,
   "metadata": {},
   "outputs": [],
   "source": []
  }
 ],
 "metadata": {
  "kernelspec": {
   "display_name": "Python 3",
   "language": "python",
   "name": "python3"
  },
  "language_info": {
   "codemirror_mode": {
    "name": "ipython",
    "version": 3
   },
   "file_extension": ".py",
   "mimetype": "text/x-python",
   "name": "python",
   "nbconvert_exporter": "python",
   "pygments_lexer": "ipython3",
   "version": "3.7.6"
  }
 },
 "nbformat": 4,
 "nbformat_minor": 4
}
