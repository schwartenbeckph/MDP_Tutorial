{
 "cells": [
  {
   "cell_type": "markdown",
   "metadata": {},
   "source": [
    "# Markov Decision Processes"
   ]
  },
  {
   "cell_type": "markdown",
   "metadata": {},
   "source": [
    "This is meant to be a tutorial guide through the structure of a Markov Decision Process (MDP), computing state and action values within a MDP and dealing with partial observability. This is work in progress but will hopefully be completed soon :)"
   ]
  },
  {
   "cell_type": "code",
   "execution_count": 85,
   "metadata": {},
   "outputs": [],
   "source": [
    "# Import necessary libraries\n",
    "%matplotlib inline\n",
    "import numpy as np\n",
    "import matplotlib.pyplot as plt"
   ]
  },
  {
   "cell_type": "markdown",
   "metadata": {},
   "source": [
    "## 1) MDP Structure"
   ]
  },
  {
   "cell_type": "markdown",
   "metadata": {},
   "source": [
    "A Markov Decision Process (MDP) is based on a **state space**, **action space**, and a **reward function**. Let's go through this via an example called *gridworld* (see Sutton and Barto 2018, p. 60 and following)"
   ]
  },
  {
   "cell_type": "markdown",
   "metadata": {},
   "source": [
    "### 1.1) State Space\n",
    "\n",
    "The environment of gridworld is a simple 5x5 grid where every cell reflects an individual **state of the environment**:"
   ]
  },
  {
   "cell_type": "code",
   "execution_count": 86,
   "metadata": {
    "scrolled": true
   },
   "outputs": [
    {
     "data": {
      "image/png": "[encoded data removed]",
      "text/plain": [
       "<Figure size 432x288 with 2 Axes>"
      ]
     },
     "metadata": {
      "needs_background": "light"
     },
     "output_type": "display_data"
    }
   ],
   "source": [
    "states = np.linspace(1,25,25).reshape(5,5)\n",
    "#print(states)\n",
    "\n",
    "plt.imshow(states, cmap='viridis')\n",
    "plt.colorbar()\n",
    "plt.axis('off')\n",
    "plt.title('States Gridworld')\n",
    "plt.show()"
   ]
  },
  {
   "cell_type": "markdown",
   "metadata": {},
   "source": [
    "### 1.2) Action Space\n",
    "\n",
    "An agent can move across this gridworld to collect rewards. There are four **actions**: move North, East, South or West"
   ]
  },
  {
   "cell_type": "code",
   "execution_count": 87,
   "metadata": {},
   "outputs": [
    {
     "data": {
      "image/png": "[encoded data removed]",
      "text/plain": [
       "<Figure size 432x288 with 1 Axes>"
      ]
     },
     "metadata": {
      "needs_background": "light"
     },
     "output_type": "display_data"
    }
   ],
   "source": [
    "actions = np.linspace(1,4,4).reshape(1,4)\n",
    "#rint(actions)\n",
    "\n",
    "plt.imshow(actions, cmap='RdBu')\n",
    "plt.yticks([])\n",
    "plt.xticks(np.arange(4), ['Move North', 'Move West', 'Move South','Move East'])\n",
    "plt.title('Actions Gridworld')\n",
    "plt.show()"
   ]
  },
  {
   "cell_type": "markdown",
   "metadata": {},
   "source": [
    "### 1.3) Rewards\n",
    "\n",
    "Finally, we need to define the **rewards**. Let's assume that \n",
    "- Any action that would take the agent off the gridworld results in a reward of -1 and does not change the location of the agent\n",
    "- Any movement from A (dark yellow below) results in a reward of +10 and moves the agent to A' (bright yellow below)\n",
    "- Any movement from B (dark green below) results in a reward of +5 and moves the agent to B' (bright green below)\n",
    "- All other actions result in a reward of 0"
   ]
  },
  {
   "cell_type": "code",
   "execution_count": 88,
   "metadata": {},
   "outputs": [
    {
     "data": {
      "image/png": "[encoded data removed]",
      "text/plain": [
       "<Figure size 432x288 with 2 Axes>"
      ]
     },
     "metadata": {
      "needs_background": "light"
     },
     "output_type": "display_data"
    }
   ],
   "source": [
    "reward_map = np.zeros((5,5))\n",
    "reward_map[0,1] = 10\n",
    "reward_map[4,1] = 11\n",
    "reward_map[0,3] = 6\n",
    "reward_map[2,3] = 8\n",
    "                      \n",
    "plt.imshow(reward_map, cmap='viridis')\n",
    "plt.colorbar()\n",
    "plt.axis('off')\n",
    "plt.title('Reward states Gridworld')\n",
    "plt.show()"
   ]
  },
  {
   "cell_type": "markdown",
   "metadata": {},
   "source": [
    "### 1.4) Dynamics\n",
    "\n",
    "We can now specify the **dynamics** of the MDP. Those dynamics are defined in the function $p$:\n",
    "\n",
    "$$p(s^\\prime,r|s,a) \\overset{def}{=} Pr(S_t=s^\\prime,R_t=r|S_{t-1}=s, A_{t-1}=a)$$\n",
    "\n",
    "\n",
    "for all $s^\\prime, s \\in S$, $r \\in R$, and $a \\in A(s)$. This is a deterministic function with four arguments: a previous state $s$, an action $a$ at that previous state, a current state $s^\\prime$, and a reward $r$ at that current state.\n",
    "\n",
    "$p$ is a probability function, such that $$\\sum_{s^\\prime \\in S} \\sum_{r \\in R}p(s^\\prime, r|s, a)=1, \\forall s \\in S, a \\in A(s)$$\n",
    "\n",
    "This is really a crucial definition, because a lot of other notions follow from these dynamics:\n",
    "\n",
    "The **state transition probabilities** are $$p(s^\\prime|s, a) \\overset{def}{=}\\sum_{r \\in R}p(s^\\prime, r|s, a)$$\n",
    "\n",
    "The **expected rewards for state-action pairs** are $$r(s,a)\\overset{def}{=}\\sum_{r \\in R}r\\sum_{s^\\prime \\in S}p(s^\\prime, r|s, a)$$\n",
    "\n",
    "The **expected rewards for state-action-state triples** are $$r(s,a,s^\\prime)\\overset{def}{=}\\sum_{r \\in R}r \\frac{p(s^\\prime, r|s, a)}{p(s^\\prime|s, a)}$$\n",
    "\n",
    "Now let's define the dynamics:"
   ]
  },
  {
   "cell_type": "code",
   "execution_count": 173,
   "metadata": {},
   "outputs": [],
   "source": [
    "# obtain p - not in the most elegant but hopefully more readable way\n",
    "n_actions = 4 # move North, West, South or East\n",
    "n_states = 25 # cells in gridworld\n",
    "n_rewards = 4 # {-1, 0, 5, 10}\n",
    "p = np.zeros((n_states,n_rewards,n_states,n_actions))\n",
    "\n",
    "location_A  = (0,1)\n",
    "location_Ap = (4,1)\n",
    "location_B  = (0,3)\n",
    "location_Bp = (2,3)\n",
    "\n",
    "for a in range(n_actions):\n",
    "    for s in range(n_states):\n",
    "        idx = np.unravel_index(s, states.shape, order='F') # find where state is on 5x5 grid\n",
    "        # now check if agent wants to move over borders:\n",
    "        if idx==location_B:\n",
    "            p[np.ravel_multi_index(location_Bp, states.shape, order='F'),2,s,a] = 1 # agent will move to B' and receive a reward of 5\n",
    "        elif idx==location_A:\n",
    "            p[np.ravel_multi_index(location_Ap, states.shape, order='F'),3,s,a] = 1 # agent will move to A' and receive a reward of 10\n",
    "        elif (idx[0]==0 and a==0) or (idx[1]==states.shape[1]-1 and a==1) or (idx[0]==states.shape[0]-1 and a==2) or (idx[1]==0 and a==3):\n",
    "            p[s,0,s,a] = 1 # agent will stay where it is and receive a negative reward\n",
    "        else:\n",
    "            if a == 0:\n",
    "                p[np.ravel_multi_index([idx[0]-1,idx[1]], states.shape, order='F'),1,s,a] = 1 # Agent moves North by one field\n",
    "            elif a == 1:\n",
    "                p[np.ravel_multi_index([idx[0],idx[1]+1], states.shape, order='F'),1,s,a] = 1 # Agent moves West by one field\n",
    "            elif a == 2:\n",
    "                p[np.ravel_multi_index([idx[0]+1,idx[1]], states.shape, order='F'),1,s,a] = 1 # Agent moves South by one field\n",
    "            elif a == 3:\n",
    "                p[np.ravel_multi_index([idx[0],idx[1]-1], states.shape, order='F'),1,s,a] = 1 # Agent moves East by one field"
   ]
  },
  {
   "cell_type": "markdown",
   "metadata": {},
   "source": [
    "This specifies the dynamics of our MDP. This provides all the information we need to infer valuable policies and know about likely transitions in this world.\n",
    "\n",
    "Based on these dynamics, we can now compute the **transition probabilities** as specified above:"
   ]
  },
  {
   "cell_type": "code",
   "execution_count": 174,
   "metadata": {},
   "outputs": [],
   "source": [
    "trans_probs = np.sum(p, axis=1)"
   ]
  },
  {
   "cell_type": "markdown",
   "metadata": {},
   "source": [
    "Now, what happens if we move in the different directions at the top left corner?"
   ]
  },
  {
   "cell_type": "code",
   "execution_count": 178,
   "metadata": {},
   "outputs": [
    {
     "data": {
      "image/png": "[encoded data removed]",
      "text/plain": [
       "<Figure size 432x288 with 4 Axes>"
      ]
     },
     "metadata": {
      "needs_background": "light"
     },
     "output_type": "display_data"
    },
    {
     "data": {
      "image/png": "[encoded data removed]",
      "text/plain": [
       "<Figure size 432x288 with 4 Axes>"
      ]
     },
     "metadata": {
      "needs_background": "light"
     },
     "output_type": "display_data"
    }
   ],
   "source": [
    "fig = plt.figure() \n",
    "a = fig.add_subplot(1, 2, 1)\n",
    "imgplot = plt.imshow(trans_probs[:,0,0].reshape(states.shape,order='F'), cmap='viridis')\n",
    "a.set_title('From [0,0] move North')\n",
    "plt.colorbar(ticks=[0, 0.5, 1], orientation='horizontal')\n",
    "a = fig.add_subplot(1, 2, 2)\n",
    "imgplot = plt.imshow(trans_probs[:,0,1].reshape(states.shape,order='F'), cmap='viridis')\n",
    "a.set_title('From [0,0] move West')\n",
    "plt.colorbar(ticks=[0, 0.5, 1], orientation='horizontal')\n",
    "plt.show()\n",
    "\n",
    "fig = plt.figure() \n",
    "a = fig.add_subplot(1, 2, 1)\n",
    "imgplot = plt.imshow(trans_probs[:,0,2].reshape(states.shape,order='F'), cmap='viridis')\n",
    "a.set_title('From [0,0] move South')\n",
    "plt.colorbar(ticks=[0, 0.5, 1], orientation='horizontal')\n",
    "a = fig.add_subplot(1, 2, 2)\n",
    "imgplot = plt.imshow(trans_probs[:,0,3].reshape(states.shape,order='F'), cmap='viridis')\n",
    "a.set_title('From [0,0] move East')\n",
    "plt.colorbar(ticks=[0, 0.5, 1], orientation='horizontal')\n",
    "plt.show()"
   ]
  },
  {
   "cell_type": "markdown",
   "metadata": {},
   "source": [
    "And if we move in the different directions when we are in A? (Remember by design this will always take us to A'!)"
   ]
  },
  {
   "cell_type": "code",
   "execution_count": 179,
   "metadata": {},
   "outputs": [
    {
     "data": {
      "image/png": "[encoded data removed]",
      "text/plain": [
       "<Figure size 432x288 with 4 Axes>"
      ]
     },
     "metadata": {
      "needs_background": "light"
     },
     "output_type": "display_data"
    },
    {
     "data": {
      "image/png": "[encoded data removed]",
      "text/plain": [
       "<Figure size 432x288 with 4 Axes>"
      ]
     },
     "metadata": {
      "needs_background": "light"
     },
     "output_type": "display_data"
    }
   ],
   "source": [
    "fig = plt.figure() \n",
    "a = fig.add_subplot(1, 2, 1)\n",
    "imgplot = plt.imshow(trans_probs[:,5,0].reshape(states.shape,order='F'), cmap='viridis')\n",
    "a.set_title('From A move North')\n",
    "plt.colorbar(ticks=[0, 0.5, 1], orientation='horizontal')\n",
    "a = fig.add_subplot(1, 2, 2)\n",
    "imgplot = plt.imshow(trans_probs[:,5,1].reshape(states.shape,order='F'), cmap='viridis')\n",
    "a.set_title('From A move West')\n",
    "plt.colorbar(ticks=[0, 0.5, 1], orientation='horizontal')\n",
    "plt.show()\n",
    "\n",
    "fig = plt.figure() \n",
    "a = fig.add_subplot(1, 2, 1)\n",
    "imgplot = plt.imshow(trans_probs[:,5,2].reshape(states.shape,order='F'), cmap='viridis')\n",
    "a.set_title('From A move South')\n",
    "plt.colorbar(ticks=[0, 0.5, 1], orientation='horizontal')\n",
    "a = fig.add_subplot(1, 2, 2)\n",
    "imgplot = plt.imshow(trans_probs[:,5,3].reshape(states.shape,order='F'), cmap='viridis')\n",
    "a.set_title('From A move East')\n",
    "plt.colorbar(ticks=[0, 0.5, 1], orientation='horizontal')\n",
    "plt.show()"
   ]
  },
  {
   "cell_type": "markdown",
   "metadata": {},
   "source": [
    "We can also obtain the **expected rewards for state-action pairs**:"
   ]
  },
  {
   "cell_type": "code",
   "execution_count": 194,
   "metadata": {},
   "outputs": [],
   "source": [
    "# first, sum over all possible next states:\n",
    "p_rsa = np.sum(p, axis=0)\n",
    "\n",
    "# then, sum over all rewards weighted by their reward value\n",
    "# rewards are -1 for attempting to leave the grid, 0 anywhere except at B (5 for every action) and A (10 for every action)\n",
    "# Let's loop over it for illustration purposes:\n",
    "r_sa = -1 * p_rsa[0,:,:] + 0 * p_rsa[1,:,:] + 5 * p_rsa[2,:,:] + 10 * p_rsa[3,:,:]"
   ]
  },
  {
   "cell_type": "markdown",
   "metadata": {},
   "source": [
    "So how good are the different actions in the different states?"
   ]
  },
  {
   "cell_type": "code",
   "execution_count": 193,
   "metadata": {},
   "outputs": [
    {
     "data": {
      "image/png": "[encoded data removed]",
      "text/plain": [
       "<Figure size 432x288 with 4 Axes>"
      ]
     },
     "metadata": {
      "needs_background": "light"
     },
     "output_type": "display_data"
    },
    {
     "data": {
      "image/png": "[encoded data removed]",
      "text/plain": [
       "<Figure size 432x288 with 4 Axes>"
      ]
     },
     "metadata": {
      "needs_background": "light"
     },
     "output_type": "display_data"
    }
   ],
   "source": [
    "fig = plt.figure() \n",
    "a = fig.add_subplot(1, 2, 1)\n",
    "imgplot = plt.imshow(r_sa[:,0].reshape(states.shape,order='F'), cmap='RdYlGn')\n",
    "a.set_title('Rewards for move North')\n",
    "plt.colorbar(ticks=[-1, 0, 5, 10], orientation='horizontal')\n",
    "a = fig.add_subplot(1, 2, 2)\n",
    "imgplot = plt.imshow(r_sa[:,1].reshape(states.shape,order='F'), cmap='RdYlGn')\n",
    "a.set_title('Rewards for  move West')\n",
    "plt.colorbar(ticks=[-1, 0, 5, 10], orientation='horizontal')\n",
    "plt.show()\n",
    "\n",
    "fig = plt.figure() \n",
    "a = fig.add_subplot(1, 2, 1)\n",
    "imgplot = plt.imshow(r_sa[:,2].reshape(states.shape,order='F'), cmap='RdYlGn')\n",
    "a.set_title('Rewards for move South')\n",
    "plt.colorbar(ticks=[-1, 0, 5, 10], orientation='horizontal')\n",
    "a = fig.add_subplot(1, 2, 2)\n",
    "imgplot = plt.imshow(r_sa[:,3].reshape(states.shape,order='F'), cmap='RdYlGn')\n",
    "a.set_title('Rewards for  move East')\n",
    "plt.colorbar(ticks=[-1, 0, 5, 10], orientation='horizontal')\n",
    "plt.show()"
   ]
  },
  {
   "cell_type": "markdown",
   "metadata": {},
   "source": [
    "And we can also get the **expected rewards for state-action-state triples**:"
   ]
  },
  {
   "cell_type": "code",
   "execution_count": 204,
   "metadata": {},
   "outputs": [],
   "source": [
    "# Divide Transitions for a given reward by transition probabilities (adding a small number to avoid division by zero)\n",
    "# Then sum weighted by reward values\n",
    "# Rewards are -1 for attempting to leave the grid, 0 anywhere except at B (5 for every action) and A (10 for every action)\n",
    "# Let's loop over it for illustration purposes:\n",
    "r_sas = -1 * np.divide(p[:,0,:,:],trans_probs+(1.e-20)) + 0 * np.divide(p[:,1,:,:],trans_probs+(1.e-20)) + \\\n",
    "         5 * np.divide(p[:,2,:,:],trans_probs+(1.e-20)) + 10 * np.divide(p[:,3,:,:],trans_probs+(1.e-20))"
   ]
  },
  {
   "cell_type": "markdown",
   "metadata": {},
   "source": [
    "This is helpful, because it provides information about likely transitions within our *MDP reward structure*.\n",
    "\n",
    "For example, we can now repeat the transition prob plots above and also obtain info about expected rewards in those transitions:"
   ]
  },
  {
   "cell_type": "code",
   "execution_count": 214,
   "metadata": {},
   "outputs": [
    {
     "data": {
      "image/png": "[encoded data removed]",
      "text/plain": [
       "<Figure size 432x288 with 4 Axes>"
      ]
     },
     "metadata": {
      "needs_background": "light"
     },
     "output_type": "display_data"
    },
    {
     "data": {
      "image/png": "[encoded data removed]",
      "text/plain": [
       "<Figure size 432x288 with 4 Axes>"
      ]
     },
     "metadata": {
      "needs_background": "light"
     },
     "output_type": "display_data"
    }
   ],
   "source": [
    "fig = plt.figure() \n",
    "a = fig.add_subplot(1, 2, 1)\n",
    "imgplot = plt.imshow(r_sas[:,0,0].reshape(states.shape,order='F'), cmap='RdYlGn', vmin=-1, vmax=10)\n",
    "a.set_title('From [0,0] move North')\n",
    "plt.colorbar(ticks=[-1, 0, 5, 10], orientation='horizontal')\n",
    "a = fig.add_subplot(1, 2, 2)\n",
    "imgplot = plt.imshow(r_sas[:,0,1].reshape(states.shape,order='F'), cmap='RdYlGn', vmin=-1, vmax=10)\n",
    "a.set_title('From [0,0] move West')\n",
    "plt.colorbar(ticks=[-1, 0, 5, 10], orientation='horizontal')\n",
    "plt.show()\n",
    "\n",
    "fig = plt.figure() \n",
    "a = fig.add_subplot(1, 2, 1)\n",
    "imgplot = plt.imshow(r_sas[:,0,2].reshape(states.shape,order='F'), cmap='RdYlGn', vmin=-1, vmax=10)\n",
    "a.set_title('From [0,0] move South')\n",
    "plt.colorbar(ticks=[-1, 0, 5, 10], orientation='horizontal')\n",
    "a = fig.add_subplot(1, 2, 2)\n",
    "imgplot = plt.imshow(r_sas[:,0,3].reshape(states.shape,order='F'), cmap='RdYlGn', vmin=-1, vmax=10)\n",
    "a.set_title('From [0,0] move East')\n",
    "plt.colorbar(ticks=[-1, 0, 5, 10], orientation='horizontal')\n",
    "plt.show()"
   ]
  },
  {
   "cell_type": "code",
   "execution_count": 215,
   "metadata": {},
   "outputs": [
    {
     "data": {
      "image/png": "[encoded data removed]",
      "text/plain": [
       "<Figure size 432x288 with 4 Axes>"
      ]
     },
     "metadata": {
      "needs_background": "light"
     },
     "output_type": "display_data"
    },
    {
     "data": {
      "image/png": "[encoded data removed]",
      "text/plain": [
       "<Figure size 432x288 with 4 Axes>"
      ]
     },
     "metadata": {
      "needs_background": "light"
     },
     "output_type": "display_data"
    }
   ],
   "source": [
    "fig = plt.figure() \n",
    "a = fig.add_subplot(1, 2, 1)\n",
    "imgplot = plt.imshow(r_sas[:,5,0].reshape(states.shape,order='F'), cmap='RdYlGn', vmin=-1, vmax=10)\n",
    "a.set_title('From A move North')\n",
    "plt.colorbar(ticks=[-1, 0, 5, 10], orientation='horizontal')\n",
    "a = fig.add_subplot(1, 2, 2)\n",
    "imgplot = plt.imshow(r_sas[:,5,1].reshape(states.shape,order='F'), cmap='RdYlGn', vmin=-1, vmax=10)\n",
    "a.set_title('From A move West')\n",
    "plt.colorbar(ticks=[-1, 0, 5, 10], orientation='horizontal')\n",
    "plt.show()\n",
    "\n",
    "fig = plt.figure() \n",
    "a = fig.add_subplot(1, 2, 1)\n",
    "imgplot = plt.imshow(r_sas[:,5,2].reshape(states.shape,order='F'), cmap='RdYlGn', vmin=-1, vmax=10)\n",
    "a.set_title('From A move South')\n",
    "plt.colorbar(ticks=[-1, 0, 5, 10], orientation='horizontal')\n",
    "a = fig.add_subplot(1, 2, 2)\n",
    "imgplot = plt.imshow(r_sas[:,5,3].reshape(states.shape,order='F'), cmap='RdYlGn', vmin=-1, vmax=10)\n",
    "a.set_title('From A move East')\n",
    "plt.colorbar(ticks=[-1, 0, 5, 10], orientation='horizontal')\n",
    "plt.show()"
   ]
  },
  {
   "cell_type": "markdown",
   "metadata": {},
   "source": [
    "This concludes the exploration of MDP dynamics, which we can use to compute state and action values and optimal policies."
   ]
  }
 ],
 "metadata": {
  "kernelspec": {
   "display_name": "Python 3",
   "language": "python",
   "name": "python3"
  },
  "language_info": {
   "codemirror_mode": {
    "name": "ipython",
    "version": 3
   },
   "file_extension": ".py",
   "mimetype": "text/x-python",
   "name": "python",
   "nbconvert_exporter": "python",
   "pygments_lexer": "ipython3",
   "version": "3.7.6"
  }
 },
 "nbformat": 4,
 "nbformat_minor": 4
}
