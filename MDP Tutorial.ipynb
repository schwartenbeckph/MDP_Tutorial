{
 "cells": [
  {
   "cell_type": "markdown",
   "metadata": {},
   "source": [
    "# Markov Decision Processes"
   ]
  },
  {
   "cell_type": "markdown",
   "metadata": {},
   "source": [
    "This is meant to be a tutorial guide through the structure of a Markov Decision Process (MDP), computing state and action values within a MDP and dealing with partial observability. This is work in progress but will hopefully be finished soon :)"
   ]
  },
  {
   "cell_type": "code",
   "execution_count": 20,
   "metadata": {},
   "outputs": [],
   "source": [
    "# Import necessary libraries\n",
    "%matplotlib inline\n",
    "import numpy as np\n",
    "import matplotlib.pyplot as plt"
   ]
  },
  {
   "cell_type": "markdown",
   "metadata": {},
   "source": [
    "## 1) MDP Structure"
   ]
  },
  {
   "cell_type": "markdown",
   "metadata": {},
   "source": [
    "A Markov Decision Process (MDP) is based on a **state space**, **action space**, and a **reward function**. Let's go through this via an example called *gridworld* (see Sutton and Barto 2018, p. 60 and following)"
   ]
  },
  {
   "cell_type": "markdown",
   "metadata": {},
   "source": [
    "### 1.1) State Space\n",
    "\n",
    "The environment is a simple 5x5 grid where every cell reflects an individual **state of the environment**:"
   ]
  },
  {
   "cell_type": "code",
   "execution_count": 21,
   "metadata": {
    "scrolled": true
   },
   "outputs": [
    {
     "data": {
      "image/png": "[encoded data removed]",
      "text/plain": [
       "<Figure size 432x288 with 2 Axes>"
      ]
     },
     "metadata": {
      "needs_background": "light"
     },
     "output_type": "display_data"
    }
   ],
   "source": [
    "states = np.linspace(1,25,25).reshape(5,5)\n",
    "#print(states)\n",
    "\n",
    "plt.imshow(states, cmap='viridis')\n",
    "plt.colorbar()\n",
    "plt.axis('off')\n",
    "plt.title('States Gridworld')\n",
    "plt.show()"
   ]
  },
  {
   "cell_type": "markdown",
   "metadata": {},
   "source": [
    "### 1.2) Action Space\n",
    "\n",
    "An agent can move across this gridworld to collect rewards. There are four **actions**: move North, East, South or West"
   ]
  },
  {
   "cell_type": "code",
   "execution_count": 35,
   "metadata": {},
   "outputs": [
    {
     "data": {
      "image/png": "[encoded data removed]",
      "text/plain": [
       "<Figure size 432x288 with 1 Axes>"
      ]
     },
     "metadata": {
      "needs_background": "light"
     },
     "output_type": "display_data"
    }
   ],
   "source": [
    "actions = np.linspace(1,4,4).reshape(1,4)\n",
    "#rint(actions)\n",
    "\n",
    "plt.imshow(actions, cmap='RdBu')\n",
    "plt.yticks([])\n",
    "plt.xticks(np.arange(4), ['Move North', 'Move West', 'Move South','Move East'])\n",
    "plt.title('Actions Gridworld')\n",
    "plt.show()"
   ]
  },
  {
   "cell_type": "markdown",
   "metadata": {},
   "source": [
    "### 1.3) Rewards\n",
    "\n",
    "Finally, we need to define the **rewards**. Let's assume that \n",
    "- Any action that would take the agent off the gridworld results in a reward of -1 and does not change the location of the agent\n",
    "- Any movement from A (dark yellow below) results in a reward of +10 and moves the agent to A' (bright yellow below)\n",
    "- Any movement from B (dark green below) results in a reward of +5 and moves the agent to B' (bright green below)\n",
    "- All other actions result in a reward of 0"
   ]
  },
  {
   "cell_type": "code",
   "execution_count": 23,
   "metadata": {},
   "outputs": [
    {
     "data": {
      "image/png": "[encoded data removed]",
      "text/plain": [
       "<Figure size 432x288 with 2 Axes>"
      ]
     },
     "metadata": {
      "needs_background": "light"
     },
     "output_type": "display_data"
    }
   ],
   "source": [
    "reward_map = np.zeros((5,5))\n",
    "reward_map[0,1] = 10\n",
    "reward_map[4,1] = 11\n",
    "reward_map[0,3] = 6\n",
    "reward_map[2,3] = 8\n",
    "                      \n",
    "plt.imshow(reward_map, cmap='viridis')\n",
    "plt.colorbar()\n",
    "plt.axis('off')\n",
    "plt.title('Reward states Gridworld')\n",
    "plt.show()"
   ]
  },
  {
   "cell_type": "markdown",
   "metadata": {},
   "source": [
    "### 1.4) Dynamics\n",
    "\n",
    "We can now specify the **dynamics** of the MDP. Those dynamics are defined in the following function $p$:\n",
    "\n",
    "$$p(s',r|s,a) \\overset{def}{=} Pr(S_t=s',R_t=r|S_{t-1}=s, A_{t-1}=a)$$\n",
    "\n",
    "\n",
    "for all $s', s \\in S$, $r \\in R$, and $a \\in A(s)$. This is a deterministic function with four arguments: a previous state $s$, an action $a$ at that previous state, a current state $s'$, and a reward $r$ at that current state.\n",
    "\n",
    "$p$ is a probability function, such that $$\\sum_{s' \\in S} \\sum_{r \\in R}p(s', r|s, a)=1, \\forall s \\in S, a \\in A(s)$$\n",
    "\n",
    "This is really a crucial definition, because a lot of other notions follow from these dynamics:\n",
    "\n",
    "The **state transition probabilities** are $$p(s'|s, a) \\overset{def}{=}\\sum_{r \\in R}p(s', r|s, a)$$\n",
    "\n",
    "The **expected rewards for state-action pairs** are $$r(s,a)\\overset{def}{=}\\sum_{r \\in R}r\\sum_{s' \\in S}p(s', r|s, a)$$\n",
    "\n",
    "The **expected rewards for state-action-state triples** are $$r(s,a,s')\\overset{def}{=}\\sum_{r \\in R}r \\frac{p(s', r|s, a)}{p(s'|s, a)}$$\n",
    "\n",
    "Now let's define the dynamics:"
   ]
  },
  {
   "cell_type": "code",
   "execution_count": 84,
   "metadata": {},
   "outputs": [],
   "source": [
    "# obtain p - not in the most elegant but hopefully more readable way\n",
    "n_actions = 4 # move North, West, South or East\n",
    "n_states = 25 # cells in gridworld\n",
    "n_rewards = 4 # {-1, 0, 5, 10}\n",
    "p = np.zeros((n_states,n_rewards,n_states,n_actions))\n",
    "\n",
    "location_A  = [0,1]\n",
    "location_Ap = [4,1]\n",
    "location_B  = [0,3]\n",
    "location_Bp = [2,3]\n",
    "\n",
    "for a in range(n_actions):\n",
    "    for s in range(n_states):\n",
    "        idx = np.unravel_index(s, states.shape, order='F') # find where state is on 5x5 grid\n",
    "        # now check if agent wants to move over borders:\n",
    "        if (idx[0]==0 and a==0) or (idx[1]==states.shape[1]-1 and a==1) or (idx[0]==states.shape[0]-1 and a==2) or (idx[1]==0 and a==3):\n",
    "            p[s,0,s,a] = 1 # agent will stay where it is and receive a negative reward\n",
    "        elif idx[0]==location_B[0] & idx[1]==location_B[1]:\n",
    "            p[np.ravel_multi_index(location_Bp, states.shape, order='F'),2,s,a] = 1 # agent will move to B' and receive a reward of 5\n",
    "        elif idx[0]==location_A[0] & idx[1]==location_A[1]:\n",
    "            p[np.ravel_multi_index(location_Ap, states.shape, order='F'),3,s,a] = 1 # agent will move to A' and receive a reward of 10\n",
    "        else:\n",
    "            if a == 0:\n",
    "                p[np.ravel_multi_index([idx[0]-1,idx[1]], states.shape, order='F'),1,s,a] = 1 # Agent moves North by one field\n",
    "            elif a == 1:\n",
    "                p[np.ravel_multi_index([idx[0],idx[1]+1], states.shape, order='F'),1,s,a] = 1 # Agent moves West by one field\n",
    "            elif a == 2:\n",
    "                p[np.ravel_multi_index([idx[0]+1,idx[1]], states.shape, order='F'),1,s,a] = 1 # Agent moves South by one field\n",
    "            elif a == 3:\n",
    "                p[np.ravel_multi_index([idx[0],idx[1]-1], states.shape, order='F'),1,s,a] = 1 # Agent moves East by one field"
   ]
  }
 ],
 "metadata": {
  "kernelspec": {
   "display_name": "Python 3",
   "language": "python",
   "name": "python3"
  },
  "language_info": {
   "codemirror_mode": {
    "name": "ipython",
    "version": 3
   },
   "file_extension": ".py",
   "mimetype": "text/x-python",
   "name": "python",
   "nbconvert_exporter": "python",
   "pygments_lexer": "ipython3",
   "version": "3.7.6"
  }
 },
 "nbformat": 4,
 "nbformat_minor": 4
}
